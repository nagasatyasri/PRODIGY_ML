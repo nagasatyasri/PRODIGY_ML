{
 "cells": [
  {
   "cell_type": "code",
   "execution_count": null,
   "id": "7720ed1e-94c4-450c-a507-02734ba6a90c",
   "metadata": {},
   "outputs": [],
   "source": [
    "Task-01\n",
    "\n",
    "Implement a linear regression model to predict the prices of houses based on their square footage and the number of bedrooms and bathrooms."
   ]
  },
  {
   "cell_type": "code",
   "execution_count": 1,
   "id": "a3e4fa9b-53b6-4462-81a8-9113fd75c4ee",
   "metadata": {},
   "outputs": [
    {
     "name": "stdout",
     "output_type": "stream",
     "text": [
      "count      1460.000000\n",
      "mean     180921.195890\n",
      "std       79442.502883\n",
      "min       34900.000000\n",
      "25%      129975.000000\n",
      "50%      163000.000000\n",
      "75%      214000.000000\n",
      "max      755000.000000\n",
      "Name: SalePrice, dtype: float64\n",
      "MEAN SQUARED ERROR: 2114644656.06\n",
      "Coefficient of determination: 0.69\n"
     ]
    }
   ],
   "source": [
    "# Import the necessary libraries\n",
    "from sklearn.linear_model import LinearRegression  # Import the LinearRegression model\n",
    "import pandas as pd  # Import pandas for data manipulation\n",
    "from sklearn.model_selection import train_test_split  # Import train_test_split for splitting data\n",
    "from sklearn.metrics import mean_squared_error, r2_score  # Import metrics for evaluation\n",
    "\n",
    "# Read the CSV file into a DataFrame\n",
    "dataFrame = pd.read_csv(\"train.csv\")\n",
    "\n",
    "# Display the first few rows of the DataFrame\n",
    "dataFrame.head()\n",
    "\n",
    "# Print summary statistics for the 'SalePrice' column\n",
    "print(dataFrame['SalePrice'].describe())\n",
    "\n",
    "# Select the independent variables (features) 'GrLivArea', 'BsmtFullBath', 'BsmtHalfBath', 'BedroomAbvGr', 'FullBath', 'HalfBath'\n",
    "A = dataFrame[['GrLivArea', 'BsmtFullBath', 'BsmtHalfBath', 'BedroomAbvGr', 'FullBath', 'HalfBath']]\n",
    "\n",
    "# Select the dependent variable 'SalePrice'\n",
    "B = dataFrame['SalePrice']\n",
    "\n",
    "# Split the data into training and testing sets\n",
    "A_train, A_test, B_train, B_test = train_test_split(A, B, random_state=1)\n",
    "\n",
    "# Create an instance of the LinearRegression model\n",
    "model = LinearRegression()\n",
    "\n",
    "# Fit the model to the training data\n",
    "model.fit(A_train, B_train)\n",
    "\n",
    "# Use the model to make predictions on the test data\n",
    "y_pred = model.predict(A_test)\n",
    "\n",
    "# Calculate and print the mean squared error\n",
    "print(\"MEAN SQUARED ERROR: %.2f\" % mean_squared_error(B_test, y_pred))\n",
    "\n",
    "# Calculate and print the coefficient of determination (R-squared)\n",
    "print(\"Coefficient of determination: %.2f\" % r2_score(B_test, y_pred))\n"
   ]
  }
 ],
 "metadata": {
  "kernelspec": {
   "display_name": "Python 3 (ipykernel)",
   "language": "python",
   "name": "python3"
  },
  "language_info": {
   "codemirror_mode": {
    "name": "ipython",
    "version": 3
   },
   "file_extension": ".py",
   "mimetype": "text/x-python",
   "name": "python",
   "nbconvert_exporter": "python",
   "pygments_lexer": "ipython3",
   "version": "3.11.4"
  }
 },
 "nbformat": 4,
 "nbformat_minor": 5
}
